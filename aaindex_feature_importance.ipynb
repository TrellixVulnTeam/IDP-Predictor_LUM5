{
 "cells": [
  {
   "cell_type": "code",
   "execution_count": 1,
   "metadata": {
    "collapsed": true
   },
   "outputs": [],
   "source": [
    "import wget\n",
    "import os.path as osp\n",
    "\n",
    "# Check if disprot data is already downloaded:\n",
    "if not osp.exists('disprot.tsv'):\n",
    "    wget.download(\"https://disprot.org/api/search?release=2022_03&show_ambiguous=true&show_obsolete=false&format=tsv&namespace=all&get_consensus=false\", \"disprot.tsv\")"
   ]
  },
  {
   "cell_type": "code",
   "execution_count": 5,
   "outputs": [
    {
     "data": {
      "text/plain": "      acc                                name                       organism  \\\n0  P03265                 DNA-binding protein  Human adenovirus C serotype 5   \n1  P03265                 DNA-binding protein  Human adenovirus C serotype 5   \n2  P49913  Cathelicidin antimicrobial peptide                   Homo sapiens   \n3  P49913  Cathelicidin antimicrobial peptide                   Homo sapiens   \n4  P49913  Cathelicidin antimicrobial peptide                   Homo sapiens   \n\n   ncbi_taxon_id disprot_id    region_id  start  end         term_namespace  \\\n0          28285    DP00003  DP00003r002    294  334       Structural state   \n1          28285    DP00003  DP00003r004    454  464       Structural state   \n2           9606    DP00004  DP00004r001    134  170       Structural state   \n3           9606    DP00004  DP00004r002    134  170  Structural transition   \n4           9606    DP00004  DP00004r004    134  170     Molecular function   \n\n         term           ec     reference  \\\n0  IDPO:00076  ECO:0006220  pmid:8632448   \n1  IDPO:00076  ECO:0006220  pmid:8632448   \n2  IDPO:00076  ECO:0006206  pmid:9452503   \n3  IDPO:00050  ECO:0006206  pmid:9452503   \n4  GO:0098772  ECO:0007634  pmid:9452503   \n\n                             region_sequence confidence  obsolete  \n0  EHVIEMDVTSENGQRALKEQSSKAKIVKNRWGRNVVQISNT        NaN       NaN  \n1                                VYRNSRAQGGG        NaN       NaN  \n2      LLGDFFRKSKEKIGKEFKRIVQRIKDFLRNLVPRTES        NaN       NaN  \n3      LLGDFFRKSKEKIGKEFKRIVQRIKDFLRNLVPRTES        NaN       NaN  \n4      LLGDFFRKSKEKIGKEFKRIVQRIKDFLRNLVPRTES        NaN       NaN  ",
      "text/html": "<div>\n<style scoped>\n    .dataframe tbody tr th:only-of-type {\n        vertical-align: middle;\n    }\n\n    .dataframe tbody tr th {\n        vertical-align: top;\n    }\n\n    .dataframe thead th {\n        text-align: right;\n    }\n</style>\n<table border=\"1\" class=\"dataframe\">\n  <thead>\n    <tr style=\"text-align: right;\">\n      <th></th>\n      <th>acc</th>\n      <th>name</th>\n      <th>organism</th>\n      <th>ncbi_taxon_id</th>\n      <th>disprot_id</th>\n      <th>region_id</th>\n      <th>start</th>\n      <th>end</th>\n      <th>term_namespace</th>\n      <th>term</th>\n      <th>ec</th>\n      <th>reference</th>\n      <th>region_sequence</th>\n      <th>confidence</th>\n      <th>obsolete</th>\n    </tr>\n  </thead>\n  <tbody>\n    <tr>\n      <th>0</th>\n      <td>P03265</td>\n      <td>DNA-binding protein</td>\n      <td>Human adenovirus C serotype 5</td>\n      <td>28285</td>\n      <td>DP00003</td>\n      <td>DP00003r002</td>\n      <td>294</td>\n      <td>334</td>\n      <td>Structural state</td>\n      <td>IDPO:00076</td>\n      <td>ECO:0006220</td>\n      <td>pmid:8632448</td>\n      <td>EHVIEMDVTSENGQRALKEQSSKAKIVKNRWGRNVVQISNT</td>\n      <td>NaN</td>\n      <td>NaN</td>\n    </tr>\n    <tr>\n      <th>1</th>\n      <td>P03265</td>\n      <td>DNA-binding protein</td>\n      <td>Human adenovirus C serotype 5</td>\n      <td>28285</td>\n      <td>DP00003</td>\n      <td>DP00003r004</td>\n      <td>454</td>\n      <td>464</td>\n      <td>Structural state</td>\n      <td>IDPO:00076</td>\n      <td>ECO:0006220</td>\n      <td>pmid:8632448</td>\n      <td>VYRNSRAQGGG</td>\n      <td>NaN</td>\n      <td>NaN</td>\n    </tr>\n    <tr>\n      <th>2</th>\n      <td>P49913</td>\n      <td>Cathelicidin antimicrobial peptide</td>\n      <td>Homo sapiens</td>\n      <td>9606</td>\n      <td>DP00004</td>\n      <td>DP00004r001</td>\n      <td>134</td>\n      <td>170</td>\n      <td>Structural state</td>\n      <td>IDPO:00076</td>\n      <td>ECO:0006206</td>\n      <td>pmid:9452503</td>\n      <td>LLGDFFRKSKEKIGKEFKRIVQRIKDFLRNLVPRTES</td>\n      <td>NaN</td>\n      <td>NaN</td>\n    </tr>\n    <tr>\n      <th>3</th>\n      <td>P49913</td>\n      <td>Cathelicidin antimicrobial peptide</td>\n      <td>Homo sapiens</td>\n      <td>9606</td>\n      <td>DP00004</td>\n      <td>DP00004r002</td>\n      <td>134</td>\n      <td>170</td>\n      <td>Structural transition</td>\n      <td>IDPO:00050</td>\n      <td>ECO:0006206</td>\n      <td>pmid:9452503</td>\n      <td>LLGDFFRKSKEKIGKEFKRIVQRIKDFLRNLVPRTES</td>\n      <td>NaN</td>\n      <td>NaN</td>\n    </tr>\n    <tr>\n      <th>4</th>\n      <td>P49913</td>\n      <td>Cathelicidin antimicrobial peptide</td>\n      <td>Homo sapiens</td>\n      <td>9606</td>\n      <td>DP00004</td>\n      <td>DP00004r004</td>\n      <td>134</td>\n      <td>170</td>\n      <td>Molecular function</td>\n      <td>GO:0098772</td>\n      <td>ECO:0007634</td>\n      <td>pmid:9452503</td>\n      <td>LLGDFFRKSKEKIGKEFKRIVQRIKDFLRNLVPRTES</td>\n      <td>NaN</td>\n      <td>NaN</td>\n    </tr>\n  </tbody>\n</table>\n</div>"
     },
     "execution_count": 5,
     "metadata": {},
     "output_type": "execute_result"
    }
   ],
   "source": [
    "import pandas as pd\n",
    "from aaindex.aaindex import aaindex\n",
    "\n",
    "disprot = pd.read_csv('disprot.tsv', sep='\\t', header=0)\n",
    "disprot.head()"
   ],
   "metadata": {
    "collapsed": false,
    "pycharm": {
     "name": "#%%\n"
    }
   }
  },
  {
   "cell_type": "code",
   "execution_count": 7,
   "outputs": [
    {
     "name": "stderr",
     "output_type": "stream",
     "text": [
      "\n",
      "KeyboardInterrupt\n",
      "\n"
     ]
    }
   ],
   "source": [
    "import requests\n",
    "import time\n",
    "\n",
    "def full_seq_from_uniprot(uniprot_id):\n",
    "    url = 'https://www.uniprot.org/uniprot/' + uniprot_id + '.fasta'\n",
    "    fasta = requests.get(url).text\n",
    "    #time.sleep(1)\n",
    "    return \"\".join(fasta.split('\\n')[1:])\n",
    "\n",
    "asc2seq = {}\n",
    "for acc in disprot['acc'].unique():\n",
    "    asc2seq[acc] = full_seq_from_uniprot(acc)\n",
    "\n",
    "len(asc2seq)"
   ],
   "metadata": {
    "collapsed": false,
    "pycharm": {
     "name": "#%%\n"
    }
   }
  },
  {
   "cell_type": "code",
   "execution_count": 10,
   "outputs": [
    {
     "data": {
      "text/plain": "71"
     },
     "execution_count": 10,
     "metadata": {},
     "output_type": "execute_result"
    }
   ],
   "source": [
    "def get_non_disordered_data(seq, regions):\n",
    "    for region in sorted(regions, key=lambda x: x[0], reverse=True):\n",
    "        seq = seq[:region[0]] + seq[region[1]:]\n",
    "    return seq\n",
    "\n",
    "asc2non_disordered_seq = {}\n",
    "for acc in asc2seq:\n",
    "    start_pos = disprot.loc[disprot['acc'] == acc, 'start'].values\n",
    "    end_pos = disprot.loc[disprot['acc'] == acc, 'end'].values\n",
    "    asc2non_disordered_seq[acc] = get_non_disordered_data(asc2seq[acc], list(zip(start_pos, end_pos)))\n",
    "\n",
    "len(asc2non_disordered_seq)"
   ],
   "metadata": {
    "collapsed": false,
    "pycharm": {
     "name": "#%%\n"
    }
   }
  },
  {
   "cell_type": "code",
   "execution_count": 20,
   "outputs": [
    {
     "data": {
      "text/plain": "      asc  is_disordered  taxon  seq_length  ANDN920101_avg  ARGP820101_avg  \\\n0  P03265              0  28285         479        4.377641        0.904342   \n1  P49913              0   9606         134        4.367090        0.887015   \n2  P03045              0  10710           1        4.520000        1.180000   \n3  P00004              0   9796           1        4.520000        1.180000   \n4  P27695              0   9606         193        4.360000        0.944352   \n\n   ARGP820102_avg  ARGP820103_avg  AURR980101_avg  AURR980102_avg  ...  \\\n0        0.970501        1.018914        1.021482        1.014948  ...   \n1        1.068507        1.090373        0.998955        0.990000  ...   \n2        2.670000        2.960000        0.880000        1.120000  ...   \n3        2.670000        2.960000        0.880000        1.120000  ...   \n4        1.061969        1.103782        1.015596        1.009275  ...   \n\n   YUTK870104_avg  ZASB820101_avg  ZHOH040101_avg  ZHOH040102_avg  \\\n0       17.175470       -0.156228        2.749415        2.856054   \n1       17.045000       -0.152060        2.848507        2.941045   \n2       18.490000       -0.107000        3.630000        3.910000   \n3       18.490000       -0.107000        3.630000        3.910000   \n4       17.097824       -0.138544        2.995026        3.021554   \n\n   ZHOH040103_avg  ZIMJ680101_avg  ZIMJ680102_avg  ZIMJ680103_avg  \\\n0       12.326514        1.272234       14.983299       15.802401   \n1       12.744030        1.287090       15.187239       14.644030   \n2       15.700000        1.400000       16.250000        1.430000   \n3       15.700000        1.400000       16.250000        1.430000   \n4       13.261658        1.345751       15.096010       13.535596   \n\n   ZIMJ680104_avg  ZIMJ680105_avg  \n0        6.103758        9.526305  \n1        6.095075        9.676866  \n2        5.740000       14.900000  \n3        5.740000       14.900000  \n4        6.144145       10.127979  \n\n[5 rows x 570 columns]",
      "text/html": "<div>\n<style scoped>\n    .dataframe tbody tr th:only-of-type {\n        vertical-align: middle;\n    }\n\n    .dataframe tbody tr th {\n        vertical-align: top;\n    }\n\n    .dataframe thead th {\n        text-align: right;\n    }\n</style>\n<table border=\"1\" class=\"dataframe\">\n  <thead>\n    <tr style=\"text-align: right;\">\n      <th></th>\n      <th>asc</th>\n      <th>is_disordered</th>\n      <th>taxon</th>\n      <th>seq_length</th>\n      <th>ANDN920101_avg</th>\n      <th>ARGP820101_avg</th>\n      <th>ARGP820102_avg</th>\n      <th>ARGP820103_avg</th>\n      <th>AURR980101_avg</th>\n      <th>AURR980102_avg</th>\n      <th>...</th>\n      <th>YUTK870104_avg</th>\n      <th>ZASB820101_avg</th>\n      <th>ZHOH040101_avg</th>\n      <th>ZHOH040102_avg</th>\n      <th>ZHOH040103_avg</th>\n      <th>ZIMJ680101_avg</th>\n      <th>ZIMJ680102_avg</th>\n      <th>ZIMJ680103_avg</th>\n      <th>ZIMJ680104_avg</th>\n      <th>ZIMJ680105_avg</th>\n    </tr>\n  </thead>\n  <tbody>\n    <tr>\n      <th>0</th>\n      <td>P03265</td>\n      <td>0</td>\n      <td>28285</td>\n      <td>479</td>\n      <td>4.377641</td>\n      <td>0.904342</td>\n      <td>0.970501</td>\n      <td>1.018914</td>\n      <td>1.021482</td>\n      <td>1.014948</td>\n      <td>...</td>\n      <td>17.175470</td>\n      <td>-0.156228</td>\n      <td>2.749415</td>\n      <td>2.856054</td>\n      <td>12.326514</td>\n      <td>1.272234</td>\n      <td>14.983299</td>\n      <td>15.802401</td>\n      <td>6.103758</td>\n      <td>9.526305</td>\n    </tr>\n    <tr>\n      <th>1</th>\n      <td>P49913</td>\n      <td>0</td>\n      <td>9606</td>\n      <td>134</td>\n      <td>4.367090</td>\n      <td>0.887015</td>\n      <td>1.068507</td>\n      <td>1.090373</td>\n      <td>0.998955</td>\n      <td>0.990000</td>\n      <td>...</td>\n      <td>17.045000</td>\n      <td>-0.152060</td>\n      <td>2.848507</td>\n      <td>2.941045</td>\n      <td>12.744030</td>\n      <td>1.287090</td>\n      <td>15.187239</td>\n      <td>14.644030</td>\n      <td>6.095075</td>\n      <td>9.676866</td>\n    </tr>\n    <tr>\n      <th>2</th>\n      <td>P03045</td>\n      <td>0</td>\n      <td>10710</td>\n      <td>1</td>\n      <td>4.520000</td>\n      <td>1.180000</td>\n      <td>2.670000</td>\n      <td>2.960000</td>\n      <td>0.880000</td>\n      <td>1.120000</td>\n      <td>...</td>\n      <td>18.490000</td>\n      <td>-0.107000</td>\n      <td>3.630000</td>\n      <td>3.910000</td>\n      <td>15.700000</td>\n      <td>1.400000</td>\n      <td>16.250000</td>\n      <td>1.430000</td>\n      <td>5.740000</td>\n      <td>14.900000</td>\n    </tr>\n    <tr>\n      <th>3</th>\n      <td>P00004</td>\n      <td>0</td>\n      <td>9796</td>\n      <td>1</td>\n      <td>4.520000</td>\n      <td>1.180000</td>\n      <td>2.670000</td>\n      <td>2.960000</td>\n      <td>0.880000</td>\n      <td>1.120000</td>\n      <td>...</td>\n      <td>18.490000</td>\n      <td>-0.107000</td>\n      <td>3.630000</td>\n      <td>3.910000</td>\n      <td>15.700000</td>\n      <td>1.400000</td>\n      <td>16.250000</td>\n      <td>1.430000</td>\n      <td>5.740000</td>\n      <td>14.900000</td>\n    </tr>\n    <tr>\n      <th>4</th>\n      <td>P27695</td>\n      <td>0</td>\n      <td>9606</td>\n      <td>193</td>\n      <td>4.360000</td>\n      <td>0.944352</td>\n      <td>1.061969</td>\n      <td>1.103782</td>\n      <td>1.015596</td>\n      <td>1.009275</td>\n      <td>...</td>\n      <td>17.097824</td>\n      <td>-0.138544</td>\n      <td>2.995026</td>\n      <td>3.021554</td>\n      <td>13.261658</td>\n      <td>1.345751</td>\n      <td>15.096010</td>\n      <td>13.535596</td>\n      <td>6.144145</td>\n      <td>10.127979</td>\n    </tr>\n  </tbody>\n</table>\n<p>5 rows × 570 columns</p>\n</div>"
     },
     "execution_count": 20,
     "metadata": {},
     "output_type": "execute_result"
    }
   ],
   "source": [
    "import numpy as np\n",
    "\n",
    "aa_index_feats = aaindex.record_codes()\n",
    "\n",
    "def get_avg_feats_per_sequence(seq):\n",
    "    features = np.zeros(len(aa_index_feats))\n",
    "    for i, feat in enumerate(aa_index_feats):\n",
    "        feat_vals = aaindex[feat]['values']\n",
    "        features[i] = np.average(np.array([feat_vals[aa] for aa in seq]))\n",
    "    return features\n",
    "\n",
    "prepared_data = []\n",
    "for asc, ordered_seq in asc2non_disordered_seq.items():\n",
    "    prepared_data.append([asc, 0, disprot.loc[disprot['acc'] == asc, 'ncbi_taxon_id'].values[0], len(ordered_seq)] + list(get_avg_feats_per_sequence(ordered_seq)))\n",
    "\n",
    "for i, row in disprot.iterrows():\n",
    "    prepared_data.append([row['acc'], 1, row['ncbi_taxon_id'], len(row['region_sequence'])] + list(get_avg_feats_per_sequence(row['region_sequence'])))\n",
    "\n",
    "prepared_data = pd.DataFrame(prepared_data, columns=['asc', 'is_disordered', 'taxon', 'seq_length']+[f'{feat}_avg' for feat in aa_index_feats])\n",
    "\n",
    "prepared_data.head()"
   ],
   "metadata": {
    "collapsed": false,
    "pycharm": {
     "name": "#%%\n"
    }
   }
  },
  {
   "cell_type": "code",
   "execution_count": 21,
   "outputs": [],
   "source": [
    "prepared_data.to_csv('basic_aa_features.csv', index=False)"
   ],
   "metadata": {
    "collapsed": false,
    "pycharm": {
     "name": "#%%\n"
    }
   }
  },
  {
   "cell_type": "code",
   "execution_count": null,
   "outputs": [],
   "source": [
    "# TODO: Run linear models to see if any of the features are important\n",
    "# Then run a linear model on the important ones to see how predictive that is overall"
   ],
   "metadata": {
    "collapsed": false,
    "pycharm": {
     "name": "#%%\n"
    }
   }
  }
 ],
 "metadata": {
  "kernelspec": {
   "display_name": "Python 3",
   "language": "python",
   "name": "python3"
  },
  "language_info": {
   "codemirror_mode": {
    "name": "ipython",
    "version": 2
   },
   "file_extension": ".py",
   "mimetype": "text/x-python",
   "name": "python",
   "nbconvert_exporter": "python",
   "pygments_lexer": "ipython2",
   "version": "2.7.6"
  }
 },
 "nbformat": 4,
 "nbformat_minor": 0
}