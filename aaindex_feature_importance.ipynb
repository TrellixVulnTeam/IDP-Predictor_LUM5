{
 "cells": [
  {
   "cell_type": "code",
   "execution_count": 1,
   "metadata": {
    "collapsed": true
   },
   "outputs": [],
   "source": [
    "import wget\n",
    "import os.path as osp\n",
    "\n",
    "# Check if disprot data is already downloaded:\n",
    "if not osp.exists('disprot.tsv'):\n",
    "    wget.download(\"https://disprot.org/api/search?release=2022_03&show_ambiguous=true&show_obsolete=false&format=tsv&namespace=all&get_consensus=false\", \"disprot.tsv\")"
   ]
  },
  {
   "cell_type": "code",
   "execution_count": 2,
   "outputs": [
    {
     "data": {
      "text/plain": "              acc                                name  \\\n0          P03265                 DNA-binding protein   \n1          P03265                 DNA-binding protein   \n2          P49913  Cathelicidin antimicrobial peptide   \n5          P03045           Antitermination protein N   \n14         P03045           Antitermination protein N   \n...           ...                                 ...   \n10007  A0A2Z5UJ33                       Nucleoprotein   \n10008  A0A2Z5UJ33                       Nucleoprotein   \n10010      P03496            Non-structural protein 1   \n10011      P03496            Non-structural protein 1   \n10013      F8UU09                       Neuraminidase   \n\n                                                organism  ncbi_taxon_id  \\\n0                          Human adenovirus C serotype 5          28285   \n1                          Human adenovirus C serotype 5          28285   \n2                                           Homo sapiens           9606   \n5                               Escherichia phage lambda          10710   \n14                              Escherichia phage lambda          10710   \n...                                                  ...            ...   \n10007                                  Influenza A virus         382835   \n10008                                  Influenza A virus         382835   \n10010  Influenza A virus (strain A/Puerto Rico/8/1934...         211044   \n10011  Influenza A virus (strain A/Puerto Rico/8/1934...         211044   \n10013                                  Influenza A virus        1027873   \n\n      disprot_id    region_id  start  end         term_namespace        term  \\\n0        DP00003  DP00003r002    294  334       Structural state  IDPO:00076   \n1        DP00003  DP00003r004    454  464       Structural state  IDPO:00076   \n2        DP00004  DP00004r001    134  170       Structural state  IDPO:00076   \n5        DP00005  DP00005r001      1  107       Structural state  IDPO:00076   \n14       DP00005  DP00005r012      1   22  Structural transition  IDPO:00050   \n...          ...          ...    ...  ...                    ...         ...   \n10007    DP03573  DP03573r005     73   91       Structural state  IDPO:00076   \n10008    DP03573  DP03573r006    203  212       Structural state  IDPO:00076   \n10010    DP03575  DP03575r001    204  230       Structural state  IDPO:00076   \n10011    DP03575  DP03575r002     73   82       Structural state  IDPO:00076   \n10013    DP03578  DP03578r001      1   82       Structural state  IDPO:00076   \n\n                ec      reference  \\\n0      ECO:0006220   pmid:8632448   \n1      ECO:0006220   pmid:8632448   \n2      ECO:0006206   pmid:9452503   \n5      ECO:0006165   pmid:9659923   \n14     ECO:0006165   pmid:9659923   \n...            ...            ...   \n10007  ECO:0006220  pmid:17151603   \n10008  ECO:0006220  pmid:17151603   \n10010  ECO:0006220  pmid:21464929   \n10011  ECO:0006220  pmid:20133840   \n10013  ECO:0006220  pmid:23028314   \n\n                                         region_sequence confidence  obsolete  \n0              EHVIEMDVTSENGQRALKEQSSKAKIVKNRWGRNVVQISNT        NaN       NaN  \n1                                            VYRNSRAQGGG        NaN       NaN  \n2                  LLGDFFRKSKEKIGKEFKRIVQRIKDFLRNLVPRTES        NaN       NaN  \n5      MDAQTRRRERRAEKQAQWKAANPLLVGVSAKPVNRPILSLNRKPKS...        NaN       NaN  \n14                                MDAQTRRRERRAEKQAQWKAAN        NaN       NaN  \n...                                                  ...        ...       ...  \n10007                                ERRNKYLEEHPSAGKDPKK        NaN       NaN  \n10008                                         DRNFWRGENG        NaN       NaN  \n10010                        RSSNENGRPPLTPKQKREMAGTIRSEV        NaN       NaN  \n10011                                         SDEALKMTMA        NaN       NaN  \n10013  MNPNQKIITIGSVCMTIGMANLILQIGNIISIWISHSIQLGNQNQI...        NaN       NaN  \n\n[4646 rows x 15 columns]",
      "text/html": "<div>\n<style scoped>\n    .dataframe tbody tr th:only-of-type {\n        vertical-align: middle;\n    }\n\n    .dataframe tbody tr th {\n        vertical-align: top;\n    }\n\n    .dataframe thead th {\n        text-align: right;\n    }\n</style>\n<table border=\"1\" class=\"dataframe\">\n  <thead>\n    <tr style=\"text-align: right;\">\n      <th></th>\n      <th>acc</th>\n      <th>name</th>\n      <th>organism</th>\n      <th>ncbi_taxon_id</th>\n      <th>disprot_id</th>\n      <th>region_id</th>\n      <th>start</th>\n      <th>end</th>\n      <th>term_namespace</th>\n      <th>term</th>\n      <th>ec</th>\n      <th>reference</th>\n      <th>region_sequence</th>\n      <th>confidence</th>\n      <th>obsolete</th>\n    </tr>\n  </thead>\n  <tbody>\n    <tr>\n      <th>0</th>\n      <td>P03265</td>\n      <td>DNA-binding protein</td>\n      <td>Human adenovirus C serotype 5</td>\n      <td>28285</td>\n      <td>DP00003</td>\n      <td>DP00003r002</td>\n      <td>294</td>\n      <td>334</td>\n      <td>Structural state</td>\n      <td>IDPO:00076</td>\n      <td>ECO:0006220</td>\n      <td>pmid:8632448</td>\n      <td>EHVIEMDVTSENGQRALKEQSSKAKIVKNRWGRNVVQISNT</td>\n      <td>NaN</td>\n      <td>NaN</td>\n    </tr>\n    <tr>\n      <th>1</th>\n      <td>P03265</td>\n      <td>DNA-binding protein</td>\n      <td>Human adenovirus C serotype 5</td>\n      <td>28285</td>\n      <td>DP00003</td>\n      <td>DP00003r004</td>\n      <td>454</td>\n      <td>464</td>\n      <td>Structural state</td>\n      <td>IDPO:00076</td>\n      <td>ECO:0006220</td>\n      <td>pmid:8632448</td>\n      <td>VYRNSRAQGGG</td>\n      <td>NaN</td>\n      <td>NaN</td>\n    </tr>\n    <tr>\n      <th>2</th>\n      <td>P49913</td>\n      <td>Cathelicidin antimicrobial peptide</td>\n      <td>Homo sapiens</td>\n      <td>9606</td>\n      <td>DP00004</td>\n      <td>DP00004r001</td>\n      <td>134</td>\n      <td>170</td>\n      <td>Structural state</td>\n      <td>IDPO:00076</td>\n      <td>ECO:0006206</td>\n      <td>pmid:9452503</td>\n      <td>LLGDFFRKSKEKIGKEFKRIVQRIKDFLRNLVPRTES</td>\n      <td>NaN</td>\n      <td>NaN</td>\n    </tr>\n    <tr>\n      <th>5</th>\n      <td>P03045</td>\n      <td>Antitermination protein N</td>\n      <td>Escherichia phage lambda</td>\n      <td>10710</td>\n      <td>DP00005</td>\n      <td>DP00005r001</td>\n      <td>1</td>\n      <td>107</td>\n      <td>Structural state</td>\n      <td>IDPO:00076</td>\n      <td>ECO:0006165</td>\n      <td>pmid:9659923</td>\n      <td>MDAQTRRRERRAEKQAQWKAANPLLVGVSAKPVNRPILSLNRKPKS...</td>\n      <td>NaN</td>\n      <td>NaN</td>\n    </tr>\n    <tr>\n      <th>14</th>\n      <td>P03045</td>\n      <td>Antitermination protein N</td>\n      <td>Escherichia phage lambda</td>\n      <td>10710</td>\n      <td>DP00005</td>\n      <td>DP00005r012</td>\n      <td>1</td>\n      <td>22</td>\n      <td>Structural transition</td>\n      <td>IDPO:00050</td>\n      <td>ECO:0006165</td>\n      <td>pmid:9659923</td>\n      <td>MDAQTRRRERRAEKQAQWKAAN</td>\n      <td>NaN</td>\n      <td>NaN</td>\n    </tr>\n    <tr>\n      <th>...</th>\n      <td>...</td>\n      <td>...</td>\n      <td>...</td>\n      <td>...</td>\n      <td>...</td>\n      <td>...</td>\n      <td>...</td>\n      <td>...</td>\n      <td>...</td>\n      <td>...</td>\n      <td>...</td>\n      <td>...</td>\n      <td>...</td>\n      <td>...</td>\n      <td>...</td>\n    </tr>\n    <tr>\n      <th>10007</th>\n      <td>A0A2Z5UJ33</td>\n      <td>Nucleoprotein</td>\n      <td>Influenza A virus</td>\n      <td>382835</td>\n      <td>DP03573</td>\n      <td>DP03573r005</td>\n      <td>73</td>\n      <td>91</td>\n      <td>Structural state</td>\n      <td>IDPO:00076</td>\n      <td>ECO:0006220</td>\n      <td>pmid:17151603</td>\n      <td>ERRNKYLEEHPSAGKDPKK</td>\n      <td>NaN</td>\n      <td>NaN</td>\n    </tr>\n    <tr>\n      <th>10008</th>\n      <td>A0A2Z5UJ33</td>\n      <td>Nucleoprotein</td>\n      <td>Influenza A virus</td>\n      <td>382835</td>\n      <td>DP03573</td>\n      <td>DP03573r006</td>\n      <td>203</td>\n      <td>212</td>\n      <td>Structural state</td>\n      <td>IDPO:00076</td>\n      <td>ECO:0006220</td>\n      <td>pmid:17151603</td>\n      <td>DRNFWRGENG</td>\n      <td>NaN</td>\n      <td>NaN</td>\n    </tr>\n    <tr>\n      <th>10010</th>\n      <td>P03496</td>\n      <td>Non-structural protein 1</td>\n      <td>Influenza A virus (strain A/Puerto Rico/8/1934...</td>\n      <td>211044</td>\n      <td>DP03575</td>\n      <td>DP03575r001</td>\n      <td>204</td>\n      <td>230</td>\n      <td>Structural state</td>\n      <td>IDPO:00076</td>\n      <td>ECO:0006220</td>\n      <td>pmid:21464929</td>\n      <td>RSSNENGRPPLTPKQKREMAGTIRSEV</td>\n      <td>NaN</td>\n      <td>NaN</td>\n    </tr>\n    <tr>\n      <th>10011</th>\n      <td>P03496</td>\n      <td>Non-structural protein 1</td>\n      <td>Influenza A virus (strain A/Puerto Rico/8/1934...</td>\n      <td>211044</td>\n      <td>DP03575</td>\n      <td>DP03575r002</td>\n      <td>73</td>\n      <td>82</td>\n      <td>Structural state</td>\n      <td>IDPO:00076</td>\n      <td>ECO:0006220</td>\n      <td>pmid:20133840</td>\n      <td>SDEALKMTMA</td>\n      <td>NaN</td>\n      <td>NaN</td>\n    </tr>\n    <tr>\n      <th>10013</th>\n      <td>F8UU09</td>\n      <td>Neuraminidase</td>\n      <td>Influenza A virus</td>\n      <td>1027873</td>\n      <td>DP03578</td>\n      <td>DP03578r001</td>\n      <td>1</td>\n      <td>82</td>\n      <td>Structural state</td>\n      <td>IDPO:00076</td>\n      <td>ECO:0006220</td>\n      <td>pmid:23028314</td>\n      <td>MNPNQKIITIGSVCMTIGMANLILQIGNIISIWISHSIQLGNQNQI...</td>\n      <td>NaN</td>\n      <td>NaN</td>\n    </tr>\n  </tbody>\n</table>\n<p>4646 rows × 15 columns</p>\n</div>"
     },
     "execution_count": 2,
     "metadata": {},
     "output_type": "execute_result"
    }
   ],
   "source": [
    "import pandas as pd\n",
    "from aaindex.aaindex import aaindex\n",
    "\n",
    "disprot = pd.read_csv('disprot.tsv', sep='\\t', header=0)\n",
    "# Drop duplicates:\n",
    "disprot = disprot.drop_duplicates(subset=['acc', 'start', 'end'])\n",
    "disprot"
   ],
   "metadata": {
    "collapsed": false,
    "pycharm": {
     "name": "#%%\n"
    }
   }
  },
  {
   "cell_type": "code",
   "execution_count": 3,
   "outputs": [
    {
     "data": {
      "text/plain": "2365"
     },
     "execution_count": 3,
     "metadata": {},
     "output_type": "execute_result"
    }
   ],
   "source": [
    "import requests\n",
    "import time\n",
    "\n",
    "def full_seq_from_uniprot(uniprot_id):\n",
    "    url = 'https://www.uniprot.org/uniprot/' + uniprot_id + '.fasta'\n",
    "    fasta = requests.get(url).text\n",
    "    #time.sleep(1)\n",
    "    return \"\".join(fasta.split('\\n')[1:])\n",
    "\n",
    "asc2seq = {}\n",
    "for acc in disprot['acc'].unique():\n",
    "    asc2seq[acc] = full_seq_from_uniprot(acc)\n",
    "\n",
    "len(asc2seq)"
   ],
   "metadata": {
    "collapsed": false,
    "pycharm": {
     "name": "#%%\n"
    }
   }
  },
  {
   "cell_type": "code",
   "execution_count": 4,
   "outputs": [
    {
     "data": {
      "text/plain": "2365"
     },
     "execution_count": 4,
     "metadata": {},
     "output_type": "execute_result"
    }
   ],
   "source": [
    "def get_non_disordered_data(seq, regions):\n",
    "    for region in sorted(regions, key=lambda x: x[0], reverse=True):\n",
    "        seq = seq[:region[0]] + seq[region[1]:]\n",
    "    return seq\n",
    "\n",
    "asc2non_disordered_seq = {}\n",
    "for acc in asc2seq:\n",
    "    start_pos = disprot.loc[disprot['acc'] == acc, 'start'].values\n",
    "    end_pos = disprot.loc[disprot['acc'] == acc, 'end'].values\n",
    "    asc2non_disordered_seq[acc] = get_non_disordered_data(asc2seq[acc], list(zip(start_pos, end_pos)))\n",
    "\n",
    "len(asc2non_disordered_seq)"
   ],
   "metadata": {
    "collapsed": false,
    "pycharm": {
     "name": "#%%\n"
    }
   }
  },
  {
   "cell_type": "code",
   "execution_count": 8,
   "outputs": [
    {
     "name": "stderr",
     "output_type": "stream",
     "text": [
      "C:\\Users\\austi\\anaconda3\\envs\\IDP-Predictor\\lib\\site-packages\\numpy\\lib\\function_base.py:380: RuntimeWarning: Mean of empty slice.\n",
      "  avg = a.mean(axis)\n",
      "C:\\Users\\austi\\anaconda3\\envs\\IDP-Predictor\\lib\\site-packages\\numpy\\core\\_methods.py:189: RuntimeWarning: invalid value encountered in double_scalars\n",
      "  ret = ret.dtype.type(ret / rcount)\n"
     ]
    },
    {
     "data": {
      "text/plain": "      asc  is_disordered  taxon  seq_length  ANDN920101_avg  ARGP820101_avg  \\\n0  P03265              0  28285         479        4.377641        0.904342   \n1  P49913              0   9606         134        4.367090        0.887015   \n2  P03045              0  10710           1        4.520000        1.180000   \n3  P00004              0   9796           1        4.520000        1.180000   \n4  P27695              0   9606         193        4.360000        0.944352   \n\n   ARGP820102_avg  ARGP820103_avg  AURR980101_avg  AURR980102_avg  ...  \\\n0        0.970501        1.018914        1.021482        1.014948  ...   \n1        1.068507        1.090373        0.998955        0.990000  ...   \n2        2.670000        2.960000        0.880000        1.120000  ...   \n3        2.670000        2.960000        0.880000        1.120000  ...   \n4        1.061969        1.103782        1.015596        1.009275  ...   \n\n   YUTK870104_avg  ZASB820101_avg  ZHOH040101_avg  ZHOH040102_avg  \\\n0       17.175470       -0.156228        2.749415        2.856054   \n1       17.045000       -0.152060        2.848507        2.941045   \n2       18.490000       -0.107000        3.630000        3.910000   \n3       18.490000       -0.107000        3.630000        3.910000   \n4       17.097824       -0.138544        2.995026        3.021554   \n\n   ZHOH040103_avg  ZIMJ680101_avg  ZIMJ680102_avg  ZIMJ680103_avg  \\\n0       12.326514        1.272234       14.983299       15.802401   \n1       12.744030        1.287090       15.187239       14.644030   \n2       15.700000        1.400000       16.250000        1.430000   \n3       15.700000        1.400000       16.250000        1.430000   \n4       13.261658        1.345751       15.096010       13.535596   \n\n   ZIMJ680104_avg  ZIMJ680105_avg  \n0        6.103758        9.526305  \n1        6.095075        9.676866  \n2        5.740000       14.900000  \n3        5.740000       14.900000  \n4        6.144145       10.127979  \n\n[5 rows x 570 columns]",
      "text/html": "<div>\n<style scoped>\n    .dataframe tbody tr th:only-of-type {\n        vertical-align: middle;\n    }\n\n    .dataframe tbody tr th {\n        vertical-align: top;\n    }\n\n    .dataframe thead th {\n        text-align: right;\n    }\n</style>\n<table border=\"1\" class=\"dataframe\">\n  <thead>\n    <tr style=\"text-align: right;\">\n      <th></th>\n      <th>asc</th>\n      <th>is_disordered</th>\n      <th>taxon</th>\n      <th>seq_length</th>\n      <th>ANDN920101_avg</th>\n      <th>ARGP820101_avg</th>\n      <th>ARGP820102_avg</th>\n      <th>ARGP820103_avg</th>\n      <th>AURR980101_avg</th>\n      <th>AURR980102_avg</th>\n      <th>...</th>\n      <th>YUTK870104_avg</th>\n      <th>ZASB820101_avg</th>\n      <th>ZHOH040101_avg</th>\n      <th>ZHOH040102_avg</th>\n      <th>ZHOH040103_avg</th>\n      <th>ZIMJ680101_avg</th>\n      <th>ZIMJ680102_avg</th>\n      <th>ZIMJ680103_avg</th>\n      <th>ZIMJ680104_avg</th>\n      <th>ZIMJ680105_avg</th>\n    </tr>\n  </thead>\n  <tbody>\n    <tr>\n      <th>0</th>\n      <td>P03265</td>\n      <td>0</td>\n      <td>28285</td>\n      <td>479</td>\n      <td>4.377641</td>\n      <td>0.904342</td>\n      <td>0.970501</td>\n      <td>1.018914</td>\n      <td>1.021482</td>\n      <td>1.014948</td>\n      <td>...</td>\n      <td>17.175470</td>\n      <td>-0.156228</td>\n      <td>2.749415</td>\n      <td>2.856054</td>\n      <td>12.326514</td>\n      <td>1.272234</td>\n      <td>14.983299</td>\n      <td>15.802401</td>\n      <td>6.103758</td>\n      <td>9.526305</td>\n    </tr>\n    <tr>\n      <th>1</th>\n      <td>P49913</td>\n      <td>0</td>\n      <td>9606</td>\n      <td>134</td>\n      <td>4.367090</td>\n      <td>0.887015</td>\n      <td>1.068507</td>\n      <td>1.090373</td>\n      <td>0.998955</td>\n      <td>0.990000</td>\n      <td>...</td>\n      <td>17.045000</td>\n      <td>-0.152060</td>\n      <td>2.848507</td>\n      <td>2.941045</td>\n      <td>12.744030</td>\n      <td>1.287090</td>\n      <td>15.187239</td>\n      <td>14.644030</td>\n      <td>6.095075</td>\n      <td>9.676866</td>\n    </tr>\n    <tr>\n      <th>2</th>\n      <td>P03045</td>\n      <td>0</td>\n      <td>10710</td>\n      <td>1</td>\n      <td>4.520000</td>\n      <td>1.180000</td>\n      <td>2.670000</td>\n      <td>2.960000</td>\n      <td>0.880000</td>\n      <td>1.120000</td>\n      <td>...</td>\n      <td>18.490000</td>\n      <td>-0.107000</td>\n      <td>3.630000</td>\n      <td>3.910000</td>\n      <td>15.700000</td>\n      <td>1.400000</td>\n      <td>16.250000</td>\n      <td>1.430000</td>\n      <td>5.740000</td>\n      <td>14.900000</td>\n    </tr>\n    <tr>\n      <th>3</th>\n      <td>P00004</td>\n      <td>0</td>\n      <td>9796</td>\n      <td>1</td>\n      <td>4.520000</td>\n      <td>1.180000</td>\n      <td>2.670000</td>\n      <td>2.960000</td>\n      <td>0.880000</td>\n      <td>1.120000</td>\n      <td>...</td>\n      <td>18.490000</td>\n      <td>-0.107000</td>\n      <td>3.630000</td>\n      <td>3.910000</td>\n      <td>15.700000</td>\n      <td>1.400000</td>\n      <td>16.250000</td>\n      <td>1.430000</td>\n      <td>5.740000</td>\n      <td>14.900000</td>\n    </tr>\n    <tr>\n      <th>4</th>\n      <td>P27695</td>\n      <td>0</td>\n      <td>9606</td>\n      <td>193</td>\n      <td>4.360000</td>\n      <td>0.944352</td>\n      <td>1.061969</td>\n      <td>1.103782</td>\n      <td>1.015596</td>\n      <td>1.009275</td>\n      <td>...</td>\n      <td>17.097824</td>\n      <td>-0.138544</td>\n      <td>2.995026</td>\n      <td>3.021554</td>\n      <td>13.261658</td>\n      <td>1.345751</td>\n      <td>15.096010</td>\n      <td>13.535596</td>\n      <td>6.144145</td>\n      <td>10.127979</td>\n    </tr>\n  </tbody>\n</table>\n<p>5 rows × 570 columns</p>\n</div>"
     },
     "execution_count": 8,
     "metadata": {},
     "output_type": "execute_result"
    }
   ],
   "source": [
    "import numpy as np\n",
    "\n",
    "aa_index_feats = aaindex.record_codes()\n",
    "\n",
    "def get_avg_feats_per_sequence(seq):\n",
    "    features = np.zeros(len(aa_index_feats))\n",
    "    for i, feat in enumerate(aa_index_feats):\n",
    "        feat_vals = aaindex[feat]['values']\n",
    "        features[i] = np.average(np.array([feat_vals[aa] for aa in seq.replace('X', '').replace('U', '').replace('Z', '')]))\n",
    "    return features\n",
    "\n",
    "prepared_data = []\n",
    "for asc, ordered_seq in asc2non_disordered_seq.items():\n",
    "    prepared_data.append([asc, 0, disprot.loc[disprot['acc'] == asc, 'ncbi_taxon_id'].values[0], len(ordered_seq)] + list(get_avg_feats_per_sequence(ordered_seq)))\n",
    "\n",
    "for i, row in disprot.iterrows():\n",
    "    prepared_data.append([row['acc'], 1, row['ncbi_taxon_id'], len(row['region_sequence'])] + list(get_avg_feats_per_sequence(row['region_sequence'])))\n",
    "\n",
    "prepared_data = pd.DataFrame(prepared_data, columns=['asc', 'is_disordered', 'taxon', 'seq_length']+[f'{feat}_avg' for feat in aa_index_feats])\n",
    "\n",
    "prepared_data.head()"
   ],
   "metadata": {
    "collapsed": false,
    "pycharm": {
     "name": "#%%\n"
    }
   }
  },
  {
   "cell_type": "code",
   "execution_count": 9,
   "outputs": [],
   "source": [
    "prepared_data.to_csv('basic_aa_features.csv', index=False)"
   ],
   "metadata": {
    "collapsed": false,
    "pycharm": {
     "name": "#%%\n"
    }
   }
  },
  {
   "cell_type": "code",
   "execution_count": 10,
   "outputs": [
    {
     "ename": "ValueError",
     "evalue": "Columns must be same length as key",
     "output_type": "error",
     "traceback": [
      "\u001B[1;31m---------------------------------------------------------------------------\u001B[0m",
      "\u001B[1;31mValueError\u001B[0m                                Traceback (most recent call last)",
      "Input \u001B[1;32mIn [10]\u001B[0m, in \u001B[0;36m<cell line: 8>\u001B[1;34m()\u001B[0m\n\u001B[0;32m      9\u001B[0m feat \u001B[38;5;241m=\u001B[39m feat \u001B[38;5;241m+\u001B[39m \u001B[38;5;124m'\u001B[39m\u001B[38;5;124m_avg\u001B[39m\u001B[38;5;124m'\u001B[39m\n\u001B[0;32m     10\u001B[0m prepared_data[feat] \u001B[38;5;241m=\u001B[39m prepared_data[feat]\u001B[38;5;241m.\u001B[39mastype(\u001B[38;5;28mfloat\u001B[39m)\n\u001B[1;32m---> 11\u001B[0m prepared_data[feat] \u001B[38;5;241m=\u001B[39m sm\u001B[38;5;241m.\u001B[39madd_constant(prepared_data[feat])\n\u001B[0;32m     12\u001B[0m model \u001B[38;5;241m=\u001B[39m sm\u001B[38;5;241m.\u001B[39mOLS(prepared_data[\u001B[38;5;124m'\u001B[39m\u001B[38;5;124mis_disordered\u001B[39m\u001B[38;5;124m'\u001B[39m], prepared_data[feat])\n\u001B[0;32m     13\u001B[0m results \u001B[38;5;241m=\u001B[39m model\u001B[38;5;241m.\u001B[39mfit()\n",
      "File \u001B[1;32m~\\anaconda3\\envs\\IDP-Predictor\\lib\\site-packages\\pandas\\core\\frame.py:3645\u001B[0m, in \u001B[0;36mDataFrame.__setitem__\u001B[1;34m(self, key, value)\u001B[0m\n\u001B[0;32m   3643\u001B[0m     \u001B[38;5;28mself\u001B[39m\u001B[38;5;241m.\u001B[39m_setitem_array(key, value)\n\u001B[0;32m   3644\u001B[0m \u001B[38;5;28;01melif\u001B[39;00m \u001B[38;5;28misinstance\u001B[39m(value, DataFrame):\n\u001B[1;32m-> 3645\u001B[0m     \u001B[38;5;28;43mself\u001B[39;49m\u001B[38;5;241;43m.\u001B[39;49m\u001B[43m_set_item_frame_value\u001B[49m\u001B[43m(\u001B[49m\u001B[43mkey\u001B[49m\u001B[43m,\u001B[49m\u001B[43m \u001B[49m\u001B[43mvalue\u001B[49m\u001B[43m)\u001B[49m\n\u001B[0;32m   3646\u001B[0m \u001B[38;5;28;01melif\u001B[39;00m (\n\u001B[0;32m   3647\u001B[0m     is_list_like(value)\n\u001B[0;32m   3648\u001B[0m     \u001B[38;5;129;01mand\u001B[39;00m \u001B[38;5;129;01mnot\u001B[39;00m \u001B[38;5;28mself\u001B[39m\u001B[38;5;241m.\u001B[39mcolumns\u001B[38;5;241m.\u001B[39mis_unique\n\u001B[0;32m   3649\u001B[0m     \u001B[38;5;129;01mand\u001B[39;00m \u001B[38;5;241m1\u001B[39m \u001B[38;5;241m<\u001B[39m \u001B[38;5;28mlen\u001B[39m(\u001B[38;5;28mself\u001B[39m\u001B[38;5;241m.\u001B[39mcolumns\u001B[38;5;241m.\u001B[39mget_indexer_for([key])) \u001B[38;5;241m==\u001B[39m \u001B[38;5;28mlen\u001B[39m(value)\n\u001B[0;32m   3650\u001B[0m ):\n\u001B[0;32m   3651\u001B[0m     \u001B[38;5;66;03m# Column to set is duplicated\u001B[39;00m\n\u001B[0;32m   3652\u001B[0m     \u001B[38;5;28mself\u001B[39m\u001B[38;5;241m.\u001B[39m_setitem_array([key], value)\n",
      "File \u001B[1;32m~\\anaconda3\\envs\\IDP-Predictor\\lib\\site-packages\\pandas\\core\\frame.py:3775\u001B[0m, in \u001B[0;36mDataFrame._set_item_frame_value\u001B[1;34m(self, key, value)\u001B[0m\n\u001B[0;32m   3773\u001B[0m len_cols \u001B[38;5;241m=\u001B[39m \u001B[38;5;241m1\u001B[39m \u001B[38;5;28;01mif\u001B[39;00m is_scalar(cols) \u001B[38;5;28;01melse\u001B[39;00m \u001B[38;5;28mlen\u001B[39m(cols)\n\u001B[0;32m   3774\u001B[0m \u001B[38;5;28;01mif\u001B[39;00m len_cols \u001B[38;5;241m!=\u001B[39m \u001B[38;5;28mlen\u001B[39m(value\u001B[38;5;241m.\u001B[39mcolumns):\n\u001B[1;32m-> 3775\u001B[0m     \u001B[38;5;28;01mraise\u001B[39;00m \u001B[38;5;167;01mValueError\u001B[39;00m(\u001B[38;5;124m\"\u001B[39m\u001B[38;5;124mColumns must be same length as key\u001B[39m\u001B[38;5;124m\"\u001B[39m)\n\u001B[0;32m   3777\u001B[0m \u001B[38;5;66;03m# align right-hand-side columns if self.columns\u001B[39;00m\n\u001B[0;32m   3778\u001B[0m \u001B[38;5;66;03m# is multi-index and self[key] is a sub-frame\u001B[39;00m\n\u001B[0;32m   3779\u001B[0m \u001B[38;5;28;01mif\u001B[39;00m \u001B[38;5;28misinstance\u001B[39m(\u001B[38;5;28mself\u001B[39m\u001B[38;5;241m.\u001B[39mcolumns, MultiIndex) \u001B[38;5;129;01mand\u001B[39;00m \u001B[38;5;28misinstance\u001B[39m(\n\u001B[0;32m   3780\u001B[0m     loc, (\u001B[38;5;28mslice\u001B[39m, Series, np\u001B[38;5;241m.\u001B[39mndarray, Index)\n\u001B[0;32m   3781\u001B[0m ):\n",
      "\u001B[1;31mValueError\u001B[0m: Columns must be same length as key"
     ]
    }
   ],
   "source": [
    "import statsmodels.api as sm\n",
    "\n",
    "# TODO: Run linear models to see if any of the features are important\n",
    "# Then run a linear model on the important ones to see how predictive that is overall\n",
    "# prepared_data = pd.read_csv('basic_aa_features.csv', header=0)\n",
    "\n",
    "# Run models on each feature:\n",
    "for feat in aa_index_feats:\n",
    "    feat = feat + '_avg'\n",
    "    prepared_data[feat] = prepared_data[feat].astype(float)\n",
    "    prepared_data[feat] = sm.add_constant(prepared_data[feat])\n",
    "    model = sm.OLS(prepared_data['is_disordered'], prepared_data[feat])\n",
    "    results = model.fit()\n",
    "    print(feat, results.summary())"
   ],
   "metadata": {
    "collapsed": false,
    "pycharm": {
     "name": "#%%\n"
    }
   }
  },
  {
   "cell_type": "code",
   "execution_count": null,
   "outputs": [],
   "source": [],
   "metadata": {
    "collapsed": false,
    "pycharm": {
     "name": "#%%\n"
    }
   }
  }
 ],
 "metadata": {
  "kernelspec": {
   "display_name": "Python 3",
   "language": "python",
   "name": "python3"
  },
  "language_info": {
   "codemirror_mode": {
    "name": "ipython",
    "version": 2
   },
   "file_extension": ".py",
   "mimetype": "text/x-python",
   "name": "python",
   "nbconvert_exporter": "python",
   "pygments_lexer": "ipython2",
   "version": "2.7.6"
  }
 },
 "nbformat": 4,
 "nbformat_minor": 0
}